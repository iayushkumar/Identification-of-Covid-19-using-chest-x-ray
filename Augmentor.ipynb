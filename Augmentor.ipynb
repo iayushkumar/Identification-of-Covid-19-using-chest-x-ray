{
 "cells": [
  {
   "cell_type": "code",
   "execution_count": 1,
   "id": "bbce75e0",
   "metadata": {},
   "outputs": [
    {
     "name": "stdout",
     "output_type": "stream",
     "text": [
      "Requirement already satisfied: Augmentor in c:\\users\\kayus\\anaconda3\\lib\\site-packages (0.2.10)\n",
      "Requirement already satisfied: future>=0.16.0 in c:\\users\\kayus\\anaconda3\\lib\\site-packages (from Augmentor) (0.18.2)\n",
      "Requirement already satisfied: numpy>=1.11.0 in c:\\users\\kayus\\anaconda3\\lib\\site-packages (from Augmentor) (1.20.3)\n",
      "Requirement already satisfied: tqdm>=4.9.0 in c:\\users\\kayus\\anaconda3\\lib\\site-packages (from Augmentor) (4.62.3)\n",
      "Requirement already satisfied: Pillow>=5.2.0 in c:\\users\\kayus\\anaconda3\\lib\\site-packages (from Augmentor) (8.4.0)\n",
      "Requirement already satisfied: colorama in c:\\users\\kayus\\anaconda3\\lib\\site-packages (from tqdm>=4.9.0->Augmentor) (0.4.4)\n",
      "['Covid19 Negative', 'Covid19 Positive']\n",
      "Covid19 Negative\n",
      "dataset/Covid19 Negative\n",
      "Initialised with 1341 image(s) found.\n",
      "Output directory set to dataset/Covid19 Negative\\output."
     ]
    },
    {
     "name": "stderr",
     "output_type": "stream",
     "text": [
      "Processing <PIL.Image.Image image mode=L size=1024x1024 at 0x21C2B7F5580>: 100%|█| 1341/1341 [01:36<00:00, 13.91 Sample\n",
      "Processing <PIL.Image.Image image mode=L size=1024x1024 at 0x21C29BCF6A0>: 100%|█| 1341/1341 [01:50<00:00, 12.11 Sample\n"
     ]
    },
    {
     "name": "stdout",
     "output_type": "stream",
     "text": [
      "Covid19 Positive\n",
      "dataset/Covid19 Positive\n",
      "Initialised with 785 image(s) found.\n",
      "Output directory set to dataset/Covid19 Positive\\output."
     ]
    },
    {
     "name": "stderr",
     "output_type": "stream",
     "text": [
      "Processing <PIL.Image.Image image mode=RGB size=998x931 at 0x21C29B53F10>: 100%|█| 1341/1341 [02:36<00:00,  8.59 Sample\n",
      "Processing <PIL.Image.Image image mode=RGB size=1399x1264 at 0x21C2B6D07F0>: 100%|█| 785/785 [01:27<00:00,  8.94 Sample\n"
     ]
    }
   ],
   "source": [
    "!pip install Augmentor\n",
    "import Augmentor\n",
    "import os\n",
    "\n",
    "main_path=\"dataset\"\n",
    "list_of_category= os.listdir(main_path)\n",
    "\n",
    "\n",
    "print(list_of_category)\n",
    "\n",
    "for i in list_of_category:\n",
    "                print(i)\n",
    "                change_path=main_path+\"/\"+i\n",
    "                print(change_path)\n",
    "                p = Augmentor.Pipeline(change_path)\n",
    "\n",
    "                p.rotate(probability=0.7, max_left_rotation=25, max_right_rotation=25)\n",
    "                p.zoom(probability=0.5, min_factor=1.1, max_factor=1.5)\n",
    "\n",
    "                p.sample(1341)\n",
    "\n",
    "                p.process()"
   ]
  },
  {
   "cell_type": "code",
   "execution_count": null,
   "id": "295bb37c",
   "metadata": {},
   "outputs": [],
   "source": []
  }
 ],
 "metadata": {
  "kernelspec": {
   "display_name": "Python 3 (ipykernel)",
   "language": "python",
   "name": "python3"
  },
  "language_info": {
   "codemirror_mode": {
    "name": "ipython",
    "version": 3
   },
   "file_extension": ".py",
   "mimetype": "text/x-python",
   "name": "python",
   "nbconvert_exporter": "python",
   "pygments_lexer": "ipython3",
   "version": "3.9.7"
  }
 },
 "nbformat": 4,
 "nbformat_minor": 5
}
